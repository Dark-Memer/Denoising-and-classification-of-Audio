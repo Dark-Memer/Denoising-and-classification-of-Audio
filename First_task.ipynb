{
  "nbformat": 4,
  "nbformat_minor": 0,
  "metadata": {
    "colab": {
      "provenance": []
    },
    "kernelspec": {
      "name": "python3",
      "display_name": "Python 3"
    },
    "language_info": {
      "name": "python"
    }
  },
  "cells": [
    {
      "cell_type": "code",
      "execution_count": 1,
      "metadata": {
        "id": "LVOjuvHeOYwZ"
      },
      "outputs": [],
      "source": [
        "def multiplicate(a):\n",
        "  b = []\n",
        "  for i in range(len(a)):\n",
        "    mul = 1\n",
        "    for j in range(len(a)):\n",
        "      if j != i:\n",
        "        mul = a[j] * mul\n",
        "    b.append(mul)\n",
        "  return b"
      ]
    },
    {
      "cell_type": "code",
      "source": [
        "multiplicate([1,2,3,4])"
      ],
      "metadata": {
        "id": "5K0zOCRbQTZm",
        "colab": {
          "base_uri": "https://localhost:8080/"
        },
        "outputId": "90da72b2-c153-417e-b719-c25dbf8b5b0e"
      },
      "execution_count": 2,
      "outputs": [
        {
          "output_type": "execute_result",
          "data": {
            "text/plain": [
              "[24, 12, 8, 6]"
            ]
          },
          "metadata": {},
          "execution_count": 2
        }
      ]
    }
  ]
}